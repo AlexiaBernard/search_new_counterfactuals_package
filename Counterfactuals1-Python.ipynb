{
 "cells": [
  {
   "cell_type": "code",
   "execution_count": 1,
   "id": "3a59b3fb",
   "metadata": {},
   "outputs": [],
   "source": [
    "# github.com/lsch0lz/counterfactuals.git"
   ]
  },
  {
   "cell_type": "code",
   "execution_count": null,
   "id": "35686448",
   "metadata": {
    "scrolled": true
   },
   "outputs": [],
   "source": [
    "import torch\n",
    "import numpy as np\n",
    "import pandas as pd\n",
    "from sklearn.model_selection import train_test_split\n",
    "from sklearn.ensemble import RandomForestClassifier\n",
    "\n",
    "from counterfactual_xai.utils.lsat_dataloader.lsat_dataloader import LsatDataloader\n",
    "from counterfactual_xai.utils.datafeed import DataFeed\n",
    "from counterfactual_xai.utils.clue.gaussian_mlp import GaussianMLP\n",
    "from counterfactual_xai.utils.clue.bnn.gaussian_bnn import GaussianBNN\n",
    "from counterfactual_xai.utils.clue.bnn.train_regression import train_BNN_regression\n",
    "from counterfactual_xai.utils.mimic_dataloader import MimiDataLoader\n"
   ]
  },
  {
   "cell_type": "code",
   "execution_count": 3,
   "id": "bf36ea4c",
   "metadata": {},
   "outputs": [],
   "source": [
    "#Data preparation\n",
    "df_clean = pd.read_csv('brfss13.csv')\n",
    "df_clean.index = range(1, len(df_clean) + 1)\n",
    "df_clean = df_clean.drop(\"Unnamed: 0\", axis=1)\n",
    "df_clean['Heartdis'] = df_clean['Heartdis'].map({'Yes': 1, 'No': 0})"
   ]
  },
  {
   "cell_type": "code",
   "execution_count": 4,
   "id": "079dc36f",
   "metadata": {},
   "outputs": [],
   "source": [
    "df_clean['Diabetes'] = df_clean['Diabetes'].map({'Yes': 1, 'No': 0})\n",
    "df_clean['Kidney'] = df_clean['Kidney'].map({'Yes': 1, 'No': 0})\n",
    "df_clean['Stroke'] = df_clean['Stroke'].map({'Yes': 1, 'No': 0})\n",
    "df_clean['Gender'] = df_clean['Gender'].map({'Male': 0, 'Female': 1})\n",
    "\n",
    "df_clean = pd.get_dummies(df_clean, columns=['Smoking'], drop_first=False)\n",
    "df_clean = pd.get_dummies(df_clean, columns=['Age'], drop_first=False)"
   ]
  },
  {
   "cell_type": "code",
   "execution_count": 5,
   "id": "30a62269",
   "metadata": {},
   "outputs": [],
   "source": [
    "# Prediction Features\n",
    "x = df_clean.drop('Heartdis', axis=1)\n",
    "y = df_clean['Heartdis']\n",
    "\n",
    "x_train, x_test, y_train, y_test = train_test_split(x,\n",
    "                                                    y,\n",
    "                                                    test_size=.20,\n",
    "                                                    random_state=42)\n",
    "\n",
    "x_train = x_train.astype(np.float32)\n",
    "x_test = x_test.astype(np.float32)\n",
    "\n",
    "y_means = y_train.mean()\n",
    "y_stds = y_train.std()"
   ]
  },
  {
   "cell_type": "code",
   "execution_count": 6,
   "id": "321033cd",
   "metadata": {},
   "outputs": [],
   "source": [
    "trainset = DataFeed(x_train.values, y_train.values)\n",
    "valset = DataFeed(x_test.values, y_test.values)"
   ]
  },
  {
   "cell_type": "code",
   "execution_count": 7,
   "id": "2bcf683c",
   "metadata": {},
   "outputs": [],
   "source": [
    "model = GaussianMLP(input_dim=x_train.shape[1], width=200, depth=2, output_dim=1, flatten_image=False)"
   ]
  },
  {
   "cell_type": "code",
   "execution_count": 8,
   "id": "b16d0f69",
   "metadata": {},
   "outputs": [
    {
     "name": "stdout",
     "output_type": "stream",
     "text": [
      "Total params: 0.05M\n"
     ]
    }
   ],
   "source": [
    "# Bayesian model initialization   \n",
    "cuda = False\n",
    "N_train = x_train.shape[0]\n",
    "log_interval = 1\n",
    "\n",
    "model_bnn = GaussianBNN(model, N_train, lr=1e-2, cuda=cuda)"
   ]
  },
  {
   "cell_type": "code",
   "execution_count": null,
   "id": "58d3690f",
   "metadata": {},
   "outputs": [],
   "source": [
    "save_dir = \"/Results1/\"\n",
    "batch_size = 512\n",
    "nb_epochs = 2200\n",
    "burn_in = 120\n",
    "sim_steps = 20\n",
    "N_saves = 100\n",
    "resample_its = 10\n",
    "resample_prior_its = 50  # 45 can be choosen to better control overfitting\n",
    "re_burn = 1e7\n",
    "\n",
    "# Training\n",
    "cost_train, cost_dev, rms_dev, ll_dev = train_BNN_regression(model_bnn, save_dir, batch_size, nb_epochs, \n",
    "                                                             trainset, valset, cuda,\n",
    "                                                             burn_in, sim_steps, N_saves, resample_its,\n",
    "                                                             resample_prior_its,\n",
    "                                                             re_burn, flat_ims=False, nb_its_dev=10, y_mu=y_means,\n",
    "                                                             y_std=y_stds)"
   ]
  },
  {
   "cell_type": "code",
   "execution_count": null,
   "id": "5d9b24f2",
   "metadata": {},
   "outputs": [],
   "source": [
    "# CLUE avec le modèle entraîné\n",
    "clue = Clue(model=model_bnn, datafeed=trainset)\n",
    "\n",
    "# Exemple d’individu à expliquer (Sick == 1)\n",
    "idx = y_test[y_test == 1].index[0]\n",
    "x_orig = x_test.loc[idx].values\n",
    "\n",
    "# Contrefait\n",
    "cf_result = clue.explain(x_orig)\n",
    "\n",
    "print(\"Contrefait :\", cf_result)\n"
   ]
  },
  {
   "cell_type": "code",
   "execution_count": null,
   "id": "3f353e38",
   "metadata": {},
   "outputs": [],
   "source": [
    "import os\n",
    "print(os.listdir(\"counterfactuals/counterfactual_xai/utils/clue\"))"
   ]
  },
  {
   "cell_type": "code",
   "execution_count": null,
   "id": "16cd8af0",
   "metadata": {},
   "outputs": [],
   "source": []
  }
 ],
 "metadata": {
  "kernelspec": {
   "display_name": "Python 3 (ipykernel)",
   "language": "python",
   "name": "python3"
  },
  "language_info": {
   "codemirror_mode": {
    "name": "ipython",
    "version": 3
   },
   "file_extension": ".py",
   "mimetype": "text/x-python",
   "name": "python",
   "nbconvert_exporter": "python",
   "pygments_lexer": "ipython3",
   "version": "3.11.11"
  }
 },
 "nbformat": 4,
 "nbformat_minor": 5
}
