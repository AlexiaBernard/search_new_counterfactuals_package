{
 "cells": [
  {
   "cell_type": "code",
   "execution_count": 2,
   "id": "fdfd8c3d-f048-43ec-bc83-d3e16df8ff90",
   "metadata": {},
   "outputs": [],
   "source": [
    "# Sklearn imports\n",
    "from sklearn.compose import ColumnTransformer\n",
    "from sklearn.model_selection import train_test_split\n",
    "from sklearn.pipeline import Pipeline\n",
    "from sklearn.preprocessing import OneHotEncoder, StandardScaler\n",
    "from sklearn.ensemble import RandomForestClassifier\n",
    "\n",
    "import numpy as np\n",
    "import pandas as pd\n",
    "\n",
    "# DiCE imports\n",
    "import dice_ml\n",
    "from dice_ml.utils import helpers  # helper functions\n"
   ]
  },
  {
   "cell_type": "code",
   "execution_count": 3,
   "id": "e39ad632-5503-4ed7-b42b-d91e3b236faa",
   "metadata": {},
   "outputs": [],
   "source": [
    "%load_ext autoreload\n",
    "%autoreload 2"
   ]
  },
  {
   "cell_type": "code",
   "execution_count": 4,
   "id": "e6849dfa-a505-498f-8a90-8cc5b03d6ced",
   "metadata": {},
   "outputs": [
    {
     "data": {
      "text/html": [
       "<div>\n",
       "<style scoped>\n",
       "    .dataframe tbody tr th:only-of-type {\n",
       "        vertical-align: middle;\n",
       "    }\n",
       "\n",
       "    .dataframe tbody tr th {\n",
       "        vertical-align: top;\n",
       "    }\n",
       "\n",
       "    .dataframe thead th {\n",
       "        text-align: right;\n",
       "    }\n",
       "</style>\n",
       "<table border=\"1\" class=\"dataframe\">\n",
       "  <thead>\n",
       "    <tr style=\"text-align: right;\">\n",
       "      <th></th>\n",
       "      <th>Gender</th>\n",
       "      <th>Age</th>\n",
       "      <th>BMI</th>\n",
       "      <th>Smoking</th>\n",
       "      <th>Alcohol</th>\n",
       "      <th>Sleep</th>\n",
       "      <th>Exercise</th>\n",
       "      <th>Fruit</th>\n",
       "      <th>Diabetes</th>\n",
       "      <th>Kidney</th>\n",
       "      <th>Stroke</th>\n",
       "      <th>Heartdis</th>\n",
       "    </tr>\n",
       "  </thead>\n",
       "  <tbody>\n",
       "    <tr>\n",
       "      <th>0</th>\n",
       "      <td>Male</td>\n",
       "      <td>Age 18 to 24</td>\n",
       "      <td>33.284898</td>\n",
       "      <td>Every day</td>\n",
       "      <td>12</td>\n",
       "      <td>6</td>\n",
       "      <td>900.0</td>\n",
       "      <td>7.000000</td>\n",
       "      <td>Yes</td>\n",
       "      <td>No</td>\n",
       "      <td>No</td>\n",
       "      <td>0</td>\n",
       "    </tr>\n",
       "    <tr>\n",
       "      <th>1</th>\n",
       "      <td>Female</td>\n",
       "      <td>Age 18 to 24</td>\n",
       "      <td>23.294675</td>\n",
       "      <td>Every day</td>\n",
       "      <td>10</td>\n",
       "      <td>7</td>\n",
       "      <td>21.0</td>\n",
       "      <td>7.000000</td>\n",
       "      <td>No</td>\n",
       "      <td>No</td>\n",
       "      <td>No</td>\n",
       "      <td>0</td>\n",
       "    </tr>\n",
       "    <tr>\n",
       "      <th>2</th>\n",
       "      <td>Female</td>\n",
       "      <td>Age 75 to 79</td>\n",
       "      <td>27.249276</td>\n",
       "      <td>Not at all</td>\n",
       "      <td>2</td>\n",
       "      <td>6</td>\n",
       "      <td>84.0</td>\n",
       "      <td>14.000000</td>\n",
       "      <td>Yes</td>\n",
       "      <td>No</td>\n",
       "      <td>No</td>\n",
       "      <td>0</td>\n",
       "    </tr>\n",
       "    <tr>\n",
       "      <th>3</th>\n",
       "      <td>Male</td>\n",
       "      <td>Age 60 to 64</td>\n",
       "      <td>28.126081</td>\n",
       "      <td>Not at all</td>\n",
       "      <td>2</td>\n",
       "      <td>8</td>\n",
       "      <td>560.0</td>\n",
       "      <td>0.933333</td>\n",
       "      <td>Yes</td>\n",
       "      <td>No</td>\n",
       "      <td>No</td>\n",
       "      <td>0</td>\n",
       "    </tr>\n",
       "    <tr>\n",
       "      <th>4</th>\n",
       "      <td>Male</td>\n",
       "      <td>Age 65 to 69</td>\n",
       "      <td>26.496727</td>\n",
       "      <td>Not at all</td>\n",
       "      <td>6</td>\n",
       "      <td>8</td>\n",
       "      <td>90.0</td>\n",
       "      <td>5.833333</td>\n",
       "      <td>No</td>\n",
       "      <td>No</td>\n",
       "      <td>No</td>\n",
       "      <td>0</td>\n",
       "    </tr>\n",
       "  </tbody>\n",
       "</table>\n",
       "</div>"
      ],
      "text/plain": [
       "   Gender           Age        BMI     Smoking  Alcohol  Sleep  Exercise  \\\n",
       "0    Male  Age 18 to 24  33.284898   Every day       12      6     900.0   \n",
       "1  Female  Age 18 to 24  23.294675   Every day       10      7      21.0   \n",
       "2  Female  Age 75 to 79  27.249276  Not at all        2      6      84.0   \n",
       "3    Male  Age 60 to 64  28.126081  Not at all        2      8     560.0   \n",
       "4    Male  Age 65 to 69  26.496727  Not at all        6      8      90.0   \n",
       "\n",
       "       Fruit Diabetes Kidney Stroke  Heartdis  \n",
       "0   7.000000      Yes     No     No         0  \n",
       "1   7.000000       No     No     No         0  \n",
       "2  14.000000      Yes     No     No         0  \n",
       "3   0.933333      Yes     No     No         0  \n",
       "4   5.833333       No     No     No         0  "
      ]
     },
     "execution_count": 4,
     "metadata": {},
     "output_type": "execute_result"
    }
   ],
   "source": [
    "dataset = pd.read_csv('data_clean.csv')\n",
    "#dataset = dataset.drop(\"Unnamed: 0\", axis=1)\n",
    "dataset.head()"
   ]
  },
  {
   "cell_type": "code",
   "execution_count": 5,
   "id": "47860035-dde9-4241-9e9b-2b2865664433",
   "metadata": {},
   "outputs": [
    {
     "data": {
      "text/plain": [
       "<bound method DataFrame.info of      Gender              Age        BMI     Smoking  Alcohol  Sleep  Exercise  \\\n",
       "0      Male     Age 18 to 24  33.284898   Every day       12      6     900.0   \n",
       "1    Female     Age 18 to 24  23.294675   Every day       10      7      21.0   \n",
       "2    Female     Age 75 to 79  27.249276  Not at all        2      6      84.0   \n",
       "3      Male     Age 60 to 64  28.126081  Not at all        2      8     560.0   \n",
       "4      Male     Age 65 to 69  26.496727  Not at all        6      8      90.0   \n",
       "..      ...              ...        ...         ...      ...    ...       ...   \n",
       "395    Male     Age 60 to 64  26.578450  Not at all        4      7     960.0   \n",
       "396    Male  Age 80 or older  26.289704  Not at all        2      9     250.0   \n",
       "397  Female     Age 60 to 64  25.790533  Not at all        1      8     420.0   \n",
       "398  Female     Age 50 to 54  24.933391   Every day        2      5      90.0   \n",
       "399  Female     Age 55 to 59  31.614201   Every day        2      6     140.0   \n",
       "\n",
       "         Fruit Diabetes Kidney Stroke  Heartdis  \n",
       "0     7.000000      Yes     No     No         0  \n",
       "1     7.000000       No     No     No         0  \n",
       "2    14.000000      Yes     No     No         0  \n",
       "3     0.933333      Yes     No     No         0  \n",
       "4     5.833333       No     No     No         0  \n",
       "..         ...      ...    ...    ...       ...  \n",
       "395   7.000000      Yes     No     No         1  \n",
       "396   7.000000       No     No     No         1  \n",
       "397  14.000000      Yes     No     No         1  \n",
       "398  14.000000      Yes     No     No         1  \n",
       "399   5.833333       No     No     No         1  \n",
       "\n",
       "[400 rows x 12 columns]>"
      ]
     },
     "execution_count": 5,
     "metadata": {},
     "output_type": "execute_result"
    }
   ],
   "source": [
    "dataset.info"
   ]
  },
  {
   "cell_type": "code",
   "execution_count": 7,
   "id": "4082f79d-a857-4e00-be58-67e38d953c70",
   "metadata": {},
   "outputs": [],
   "source": [
    "# Split the dataset into two\n",
    "target = dataset[\"Heartdis\"]\n",
    "train_dataset, test_dataset, y_train, y_test = train_test_split(dataset,\n",
    "                                                                target,\n",
    "                                                                test_size=0.2,\n",
    "                                                                random_state=0,\n",
    "                                                                stratify=target)\n",
    "x_train = train_dataset.drop('Heartdis', axis=1)\n",
    "x_test = test_dataset.drop('Heartdis', axis=1)"
   ]
  },
  {
   "cell_type": "code",
   "execution_count": 11,
   "id": "044cbf68-8e59-4f83-9aae-08e706d25e04",
   "metadata": {},
   "outputs": [],
   "source": [
    "numerical = [\"BMI\", \"Alcohol\", \"Sleep\", \"Exercise\", \"Fruit\"]\n",
    "categorical = x_train.columns.difference(numerical)"
   ]
  },
  {
   "cell_type": "code",
   "execution_count": 12,
   "id": "e05aa461-5a46-4f5d-acb2-6c5495971359",
   "metadata": {},
   "outputs": [],
   "source": [
    "# Step 1: dice_ml.Data\n",
    "d = dice_ml.Data(dataframe=train_dataset, continuous_features=numerical, outcome_name='Heartdis')"
   ]
  },
  {
   "cell_type": "code",
   "execution_count": 13,
   "id": "12b92d55-4dab-4557-8302-6cd0add7d67c",
   "metadata": {},
   "outputs": [],
   "source": [
    "numeric_transformer = Pipeline(steps=[\n",
    "    ('scaler', StandardScaler())])\n",
    "\n",
    "categorical_transformer = Pipeline(steps=[\n",
    "    ('onehot', OneHotEncoder(handle_unknown='ignore'))])\n",
    "\n",
    "transformations = ColumnTransformer(\n",
    "    transformers=[\n",
    "        ('num', numeric_transformer, numerical),\n",
    "        ('cat', categorical_transformer, categorical)])\n",
    "\n",
    "# Append classifier to preprocessing pipeline.\n",
    "# Now we have a full prediction pipeline.\n",
    "clf = Pipeline(steps=[('preprocessor', transformations),\n",
    "                      ('classifier', RandomForestClassifier())])\n",
    "model = clf.fit(x_train, y_train)"
   ]
  },
  {
   "cell_type": "code",
   "execution_count": 14,
   "id": "7fa35340-ba12-4142-a745-3552cee5aea0",
   "metadata": {},
   "outputs": [],
   "source": [
    "# Using sklearn backend\n",
    "m = dice_ml.Model(model=model, backend=\"sklearn\")\n",
    "# Using method=random for generating CFs\n",
    "# method : random, genetic, kdtree (a verif)\n",
    "exp = dice_ml.Dice(d, m, method=\"random\")"
   ]
  },
  {
   "cell_type": "code",
   "execution_count": 15,
   "id": "a16ba10c-d920-4402-9f67-640a2ea30a8c",
   "metadata": {},
   "outputs": [
    {
     "name": "stdout",
     "output_type": "stream",
     "text": [
      "1\n"
     ]
    }
   ],
   "source": [
    "# Find clues where the value is “Yes”.\n",
    "yes_indices = y_test.index[y_test == 1].tolist()\n",
    "# Choose a random index among them\n",
    "random_index = np.random.choice(yes_indices)\n",
    "print(y_test.loc[random_index])"
   ]
  },
  {
   "cell_type": "code",
   "execution_count": 16,
   "id": "6ff6b3b5-a06d-49a6-b4d0-e7a6956b1438",
   "metadata": {},
   "outputs": [],
   "source": [
    "# ?exp.generate_counterfactuals"
   ]
  },
  {
   "cell_type": "code",
   "execution_count": 25,
   "id": "219a85d6-d6e2-4e77-bd3a-af1215bf1c40",
   "metadata": {},
   "outputs": [],
   "source": [
    "# Gender \tAge \tBMI \tSmoking \tAlcohol \tSleep \tExercise \tFruit \tDiabetes \tKidney \tStroke \tHeartdis\n",
    "query_instance = {'Gender': 'Female',\n",
    "                  'Age': 'Age 55 to 59',\n",
    "                  'BMI': 100,\n",
    "                  'Smoking': 'Every day',\n",
    "                  'Alcohol': 20,\n",
    "                  'Sleep': 5,\n",
    "                  'Exercise': 3,\n",
    "                  'Fruit': 1,\n",
    "                  'Diabetes': 'Yes',\n",
    "                  'Kidney': 'No',\n",
    "                  'Stroke': 'No'\n",
    "                 }\n",
    "\n",
    "query_instance = pd.DataFrame([query_instance])"
   ]
  },
  {
   "cell_type": "code",
   "execution_count": 30,
   "id": "2bf78a60-c58a-4a25-a2ac-a324aa1a968b",
   "metadata": {},
   "outputs": [
    {
     "name": "stdout",
     "output_type": "stream",
     "text": [
      "Gender              Male\n",
      "Age         Age 60 to 64\n",
      "BMI            23.745543\n",
      "Smoking        Every day\n",
      "Alcohol                2\n",
      "Sleep                  6\n",
      "Exercise          2520.0\n",
      "Fruit           1.166667\n",
      "Diabetes              No\n",
      "Kidney                No\n",
      "Stroke                No\n",
      "Name: 202, dtype: object\n",
      "1\n"
     ]
    }
   ],
   "source": [
    "print(x_test.loc[random_index])\n",
    "print(y_test.loc[random_index])"
   ]
  },
  {
   "cell_type": "code",
   "execution_count": 28,
   "id": "4042da1f-346c-4195-afae-f3964ca43562",
   "metadata": {},
   "outputs": [
    {
     "name": "stderr",
     "output_type": "stream",
     "text": [
      "100%|█████████████████████████████████████████████| 1/1 [00:00<00:00,  4.43it/s]"
     ]
    },
    {
     "name": "stdout",
     "output_type": "stream",
     "text": [
      "Query instance (original outcome : 0)\n"
     ]
    },
    {
     "name": "stderr",
     "output_type": "stream",
     "text": [
      "\n"
     ]
    },
    {
     "data": {
      "text/html": [
       "<div>\n",
       "<style scoped>\n",
       "    .dataframe tbody tr th:only-of-type {\n",
       "        vertical-align: middle;\n",
       "    }\n",
       "\n",
       "    .dataframe tbody tr th {\n",
       "        vertical-align: top;\n",
       "    }\n",
       "\n",
       "    .dataframe thead th {\n",
       "        text-align: right;\n",
       "    }\n",
       "</style>\n",
       "<table border=\"1\" class=\"dataframe\">\n",
       "  <thead>\n",
       "    <tr style=\"text-align: right;\">\n",
       "      <th></th>\n",
       "      <th>Gender</th>\n",
       "      <th>Age</th>\n",
       "      <th>BMI</th>\n",
       "      <th>Smoking</th>\n",
       "      <th>Alcohol</th>\n",
       "      <th>Sleep</th>\n",
       "      <th>Exercise</th>\n",
       "      <th>Fruit</th>\n",
       "      <th>Diabetes</th>\n",
       "      <th>Kidney</th>\n",
       "      <th>Stroke</th>\n",
       "      <th>Heartdis</th>\n",
       "    </tr>\n",
       "  </thead>\n",
       "  <tbody>\n",
       "    <tr>\n",
       "      <th>0</th>\n",
       "      <td>Male</td>\n",
       "      <td>Age 60 to 64</td>\n",
       "      <td>23.745543</td>\n",
       "      <td>Every day</td>\n",
       "      <td>2</td>\n",
       "      <td>6</td>\n",
       "      <td>2520.0</td>\n",
       "      <td>1.166667</td>\n",
       "      <td>No</td>\n",
       "      <td>No</td>\n",
       "      <td>No</td>\n",
       "      <td>0</td>\n",
       "    </tr>\n",
       "  </tbody>\n",
       "</table>\n",
       "</div>"
      ],
      "text/plain": [
       "  Gender           Age        BMI    Smoking  Alcohol  Sleep  Exercise  \\\n",
       "0   Male  Age 60 to 64  23.745543  Every day        2      6    2520.0   \n",
       "\n",
       "      Fruit Diabetes Kidney Stroke  Heartdis  \n",
       "0  1.166667       No     No     No         0  "
      ]
     },
     "metadata": {},
     "output_type": "display_data"
    },
    {
     "name": "stdout",
     "output_type": "stream",
     "text": [
      "\n",
      "Diverse Counterfactual set (new outcome: 0)\n"
     ]
    },
    {
     "data": {
      "text/html": [
       "<div>\n",
       "<style scoped>\n",
       "    .dataframe tbody tr th:only-of-type {\n",
       "        vertical-align: middle;\n",
       "    }\n",
       "\n",
       "    .dataframe tbody tr th {\n",
       "        vertical-align: top;\n",
       "    }\n",
       "\n",
       "    .dataframe thead th {\n",
       "        text-align: right;\n",
       "    }\n",
       "</style>\n",
       "<table border=\"1\" class=\"dataframe\">\n",
       "  <thead>\n",
       "    <tr style=\"text-align: right;\">\n",
       "      <th></th>\n",
       "      <th>Gender</th>\n",
       "      <th>Age</th>\n",
       "      <th>BMI</th>\n",
       "      <th>Smoking</th>\n",
       "      <th>Alcohol</th>\n",
       "      <th>Sleep</th>\n",
       "      <th>Exercise</th>\n",
       "      <th>Fruit</th>\n",
       "      <th>Diabetes</th>\n",
       "      <th>Kidney</th>\n",
       "      <th>Stroke</th>\n",
       "      <th>Heartdis</th>\n",
       "    </tr>\n",
       "  </thead>\n",
       "  <tbody>\n",
       "    <tr>\n",
       "      <th>0</th>\n",
       "      <td>-</td>\n",
       "      <td>-</td>\n",
       "      <td>-</td>\n",
       "      <td>-</td>\n",
       "      <td>-</td>\n",
       "      <td>9</td>\n",
       "      <td>-</td>\n",
       "      <td>28.8</td>\n",
       "      <td>-</td>\n",
       "      <td>-</td>\n",
       "      <td>-</td>\n",
       "      <td>-</td>\n",
       "    </tr>\n",
       "    <tr>\n",
       "      <th>1</th>\n",
       "      <td>-</td>\n",
       "      <td>-</td>\n",
       "      <td>-</td>\n",
       "      <td>Some days</td>\n",
       "      <td>-</td>\n",
       "      <td>12</td>\n",
       "      <td>-</td>\n",
       "      <td>-</td>\n",
       "      <td>-</td>\n",
       "      <td>-</td>\n",
       "      <td>-</td>\n",
       "      <td>-</td>\n",
       "    </tr>\n",
       "  </tbody>\n",
       "</table>\n",
       "</div>"
      ],
      "text/plain": [
       "  Gender Age BMI    Smoking Alcohol Sleep Exercise Fruit Diabetes Kidney  \\\n",
       "0      -   -   -          -       -     9        -  28.8        -      -   \n",
       "1      -   -   -  Some days       -    12        -     -        -      -   \n",
       "\n",
       "  Stroke Heartdis  \n",
       "0      -        -  \n",
       "1      -        -  "
      ]
     },
     "metadata": {},
     "output_type": "display_data"
    }
   ],
   "source": [
    "query_instance = x_test.loc[[random_index]]\n",
    "e1 = exp.generate_counterfactuals(query_instance, total_CFs=2, desired_class=0, features_to_vary=[\"BMI\", \"Smoking\", \"Alcohol\", \"Sleep\", \"Exercise\", \"Fruit\"])\n",
    "e1.visualize_as_dataframe(show_only_changes=True)"
   ]
  },
  {
   "cell_type": "code",
   "execution_count": null,
   "id": "7947ebfb-94c4-4cf2-af81-09a183dd7ffc",
   "metadata": {},
   "outputs": [],
   "source": []
  }
 ],
 "metadata": {
  "kernelspec": {
   "display_name": "Python 3 (ipykernel)",
   "language": "python",
   "name": "python3"
  },
  "language_info": {
   "codemirror_mode": {
    "name": "ipython",
    "version": 3
   },
   "file_extension": ".py",
   "mimetype": "text/x-python",
   "name": "python",
   "nbconvert_exporter": "python",
   "pygments_lexer": "ipython3",
   "version": "3.11.11"
  }
 },
 "nbformat": 4,
 "nbformat_minor": 5
}
