{
 "cells": [
  {
   "cell_type": "code",
   "execution_count": 1,
   "id": "34987c6b-8e38-4767-942d-30fe1f0ecc4a",
   "metadata": {
    "scrolled": true
   },
   "outputs": [
    {
     "name": "stderr",
     "output_type": "stream",
     "text": [
      "/home/user/anaconda3/envs/carla_env/lib/python3.7/site-packages/tensorflow/python/framework/dtypes.py:516: FutureWarning: Passing (type, 1) or '1type' as a synonym of type is deprecated; in a future version of numpy, it will be understood as (type, (1,)) / '(1,)type'.\n",
      "  _np_qint8 = np.dtype([(\"qint8\", np.int8, 1)])\n",
      "/home/user/anaconda3/envs/carla_env/lib/python3.7/site-packages/tensorflow/python/framework/dtypes.py:517: FutureWarning: Passing (type, 1) or '1type' as a synonym of type is deprecated; in a future version of numpy, it will be understood as (type, (1,)) / '(1,)type'.\n",
      "  _np_quint8 = np.dtype([(\"quint8\", np.uint8, 1)])\n",
      "/home/user/anaconda3/envs/carla_env/lib/python3.7/site-packages/tensorflow/python/framework/dtypes.py:518: FutureWarning: Passing (type, 1) or '1type' as a synonym of type is deprecated; in a future version of numpy, it will be understood as (type, (1,)) / '(1,)type'.\n",
      "  _np_qint16 = np.dtype([(\"qint16\", np.int16, 1)])\n",
      "/home/user/anaconda3/envs/carla_env/lib/python3.7/site-packages/tensorflow/python/framework/dtypes.py:519: FutureWarning: Passing (type, 1) or '1type' as a synonym of type is deprecated; in a future version of numpy, it will be understood as (type, (1,)) / '(1,)type'.\n",
      "  _np_quint16 = np.dtype([(\"quint16\", np.uint16, 1)])\n",
      "/home/user/anaconda3/envs/carla_env/lib/python3.7/site-packages/tensorflow/python/framework/dtypes.py:520: FutureWarning: Passing (type, 1) or '1type' as a synonym of type is deprecated; in a future version of numpy, it will be understood as (type, (1,)) / '(1,)type'.\n",
      "  _np_qint32 = np.dtype([(\"qint32\", np.int32, 1)])\n",
      "/home/user/anaconda3/envs/carla_env/lib/python3.7/site-packages/tensorflow/python/framework/dtypes.py:525: FutureWarning: Passing (type, 1) or '1type' as a synonym of type is deprecated; in a future version of numpy, it will be understood as (type, (1,)) / '(1,)type'.\n",
      "  np_resource = np.dtype([(\"resource\", np.ubyte, 1)])\n",
      "/home/user/anaconda3/envs/carla_env/lib/python3.7/site-packages/tensorboard/compat/tensorflow_stub/dtypes.py:541: FutureWarning: Passing (type, 1) or '1type' as a synonym of type is deprecated; in a future version of numpy, it will be understood as (type, (1,)) / '(1,)type'.\n",
      "  _np_qint8 = np.dtype([(\"qint8\", np.int8, 1)])\n",
      "/home/user/anaconda3/envs/carla_env/lib/python3.7/site-packages/tensorboard/compat/tensorflow_stub/dtypes.py:542: FutureWarning: Passing (type, 1) or '1type' as a synonym of type is deprecated; in a future version of numpy, it will be understood as (type, (1,)) / '(1,)type'.\n",
      "  _np_quint8 = np.dtype([(\"quint8\", np.uint8, 1)])\n",
      "/home/user/anaconda3/envs/carla_env/lib/python3.7/site-packages/tensorboard/compat/tensorflow_stub/dtypes.py:543: FutureWarning: Passing (type, 1) or '1type' as a synonym of type is deprecated; in a future version of numpy, it will be understood as (type, (1,)) / '(1,)type'.\n",
      "  _np_qint16 = np.dtype([(\"qint16\", np.int16, 1)])\n",
      "/home/user/anaconda3/envs/carla_env/lib/python3.7/site-packages/tensorboard/compat/tensorflow_stub/dtypes.py:544: FutureWarning: Passing (type, 1) or '1type' as a synonym of type is deprecated; in a future version of numpy, it will be understood as (type, (1,)) / '(1,)type'.\n",
      "  _np_quint16 = np.dtype([(\"quint16\", np.uint16, 1)])\n",
      "/home/user/anaconda3/envs/carla_env/lib/python3.7/site-packages/tensorboard/compat/tensorflow_stub/dtypes.py:545: FutureWarning: Passing (type, 1) or '1type' as a synonym of type is deprecated; in a future version of numpy, it will be understood as (type, (1,)) / '(1,)type'.\n",
      "  _np_qint32 = np.dtype([(\"qint32\", np.int32, 1)])\n",
      "/home/user/anaconda3/envs/carla_env/lib/python3.7/site-packages/tensorboard/compat/tensorflow_stub/dtypes.py:550: FutureWarning: Passing (type, 1) or '1type' as a synonym of type is deprecated; in a future version of numpy, it will be understood as (type, (1,)) / '(1,)type'.\n",
      "  np_resource = np.dtype([(\"resource\", np.ubyte, 1)])\n",
      "/home/user/anaconda3/envs/carla_env/lib/python3.7/site-packages/tqdm/auto.py:21: TqdmWarning: IProgress not found. Please update jupyter and ipywidgets. See https://ipywidgets.readthedocs.io/en/stable/user_install.html\n",
      "  from .autonotebook import tqdm as notebook_tqdm\n",
      "Using TensorFlow backend.\n"
     ]
    },
    {
     "name": "stdout",
     "output_type": "stream",
     "text": [
      "[INFO] Using Python-MIP package version 1.12.0 [model.py <module>]\n"
     ]
    }
   ],
   "source": [
    "import carla\n",
    "from carla.data.api import Data\n",
    "import pandas as pd\n",
    "import numpy as np\n",
    "from sklearn.model_selection import train_test_split\n",
    "from sklearn.ensemble import RandomForestClassifier\n",
    "from carla.recourse_methods.catalog.wachter import Wachter\n",
    "from carla.models.api import MLModel\n",
    "from sklearn.preprocessing import OneHotEncoder\n",
    "from carla.recourse_methods import GrowingSpheres\n",
    "from typing import Union\n"
   ]
  },
  {
   "cell_type": "code",
   "execution_count": 2,
   "id": "3e3b13d2-2eda-4859-b2a3-c34a5f4025d8",
   "metadata": {},
   "outputs": [],
   "source": [
    "class CustomData(Data):\n",
    "    def __init__(self):\n",
    "        # Load the data \n",
    "        self._df = pd.read_csv(\"brfss13.csv\").drop(\"Unnamed: 0\", axis=1)\n",
    "\n",
    "        # Encoding the target column\n",
    "        self._df['Heartdis'] = self._df['Heartdis'].map({'Yes': 0, 'No': 1}) #Ici j'ai inversé car le model met de base à 1\n",
    "\n",
    "        # Défine columns\n",
    "        self._target = \"Heartdis\"\n",
    "        self._onehot_cols = [\"Smoking\", \"Age\", \"Gender\", \"Diabetes\", \"Kidney\", \"Stroke\"]\n",
    "        self._continuous = [\"BMI\", \"Sleep\", \"Exercise\", \"Alcohol\", \"Fruit\"]\n",
    "\n",
    "        # Initialize encoder\n",
    "        self._encoder = OneHotEncoder(drop=None, sparse=False, handle_unknown=\"ignore\")\n",
    "        self._encoder.fit(self._df[self._onehot_cols])\n",
    "\n",
    "        # Get encoded column names\n",
    "        encoded_col_names = self._encoder.get_feature_names(self._onehot_cols)\n",
    "\n",
    "        # Apply encoding\n",
    "        encoded_cols = self._encoder.transform(self._df[self._onehot_cols])\n",
    "        encoded_df = pd.DataFrame(encoded_cols, columns=encoded_col_names)\n",
    "\n",
    "        # Make sure all columns are present\n",
    "        encoded_df = encoded_df.reindex(columns=encoded_col_names, fill_value=0)\n",
    "\n",
    "        # Delete original columns\n",
    "        df_numerical = self._df.drop(columns=self._onehot_cols + [self._target])\n",
    "\n",
    "        # Concatenate\n",
    "        self._data = pd.concat([df_numerical.reset_index(drop=True), encoded_df.reset_index(drop=True)], axis=1)\n",
    "\n",
    "        # Unchanging columns (gender, age)\n",
    "        self._immutables = [col for col in encoded_df.columns if \"Gender\" in col or \"Age\" in col]\n",
    "\n",
    "        # Blocks integer \n",
    "        self._data['Sleep'] = self._data['Sleep'].astype(int)\n",
    "        self._data['Exercise'] = self._data['Exercise'].astype(int)\n",
    "        self._data['Alcohol'] = self._data['Alcohol'].astype(int)\n",
    "        self._data['Fruit'] = self._data['Fruit'].astype(int)\n",
    "\n",
    "\n",
    "        # Target\n",
    "        self._target_column = self._df[self._target]\n",
    "\n",
    "        # Split train/test\n",
    "        self._X_train, self._X_test, self._y_train, self._y_test = train_test_split(\n",
    "            self._data, self._target_column, test_size=0.2, random_state=42\n",
    "        )\n",
    "\n",
    "    @property\n",
    "    def raw(self):\n",
    "        return self._df\n",
    "\n",
    "    @property\n",
    "    def df(self):\n",
    "        return self._data\n",
    "\n",
    "    @property\n",
    "    def target(self):\n",
    "        return self._target\n",
    "\n",
    "    @property\n",
    "    def categorical(self):\n",
    "        return self._onehot_cols\n",
    "\n",
    "    @property\n",
    "    def continuous(self):\n",
    "        return self._continuous\n",
    "\n",
    "    @property\n",
    "    def immutables(self):\n",
    "        return self._immutables\n",
    "\n",
    "    @property\n",
    "    def name(self):\n",
    "        return \"heartdis\"\n",
    "\n",
    "    @property\n",
    "    def encoder(self):\n",
    "        return self._encoder\n",
    "\n",
    "    def df_train(self):\n",
    "        return self._X_train\n",
    "\n",
    "    def df_test(self):\n",
    "        return self._X_test\n",
    "\n",
    "    def transform(self, x):\n",
    "        return x\n",
    "\n",
    "    def inverse_transform(self, x):\n",
    "        return x"
   ]
  },
  {
   "cell_type": "code",
   "execution_count": 3,
   "id": "74f06ae2-3953-4ad9-91fc-89045542691e",
   "metadata": {},
   "outputs": [],
   "source": [
    "class SKLearnModel(MLModel):\n",
    "    def __init__(self, model, data, predict_proba=True):\n",
    "        self._model = model\n",
    "        self._data = data\n",
    "        self._predict_proba = predict_proba\n",
    "        self._feature_input_order = data.df.columns.tolist()\n",
    "\n",
    "    @property\n",
    "    def data(self):\n",
    "        return self._data\n",
    "\n",
    "    @property\n",
    "    def feature_input_order(self):\n",
    "        return self._feature_input_order\n",
    "\n",
    "    @property\n",
    "    def raw_model(self):\n",
    "        return self._model\n",
    "\n",
    "    @property\n",
    "    def backend(self):\n",
    "        return \"sklearn\"\n",
    "\n",
    "    def predict(self, x: pd.DataFrame) -> np.ndarray:\n",
    "        return self._model.predict(x[self.feature_input_order])\n",
    "\n",
    "    def predict_proba(self, x: Union[pd.DataFrame, np.ndarray]) -> np.ndarray:\n",
    "        if self._predict_proba:\n",
    "            # If x is an array, pass it as is\n",
    "            if isinstance(x, np.ndarray):\n",
    "                return self._model.predict_proba(x)\n",
    "            # Otherwise we assume it's a DataFrame\n",
    "            else:\n",
    "                return self._model.predict_proba(x[self.feature_input_order])\n",
    "        else:\n",
    "            raise NotImplementedError(\"predict_proba is disabled.\")\n"
   ]
  },
  {
   "cell_type": "code",
   "execution_count": 4,
   "id": "75e61824-e909-4446-ac16-f9570f83b995",
   "metadata": {},
   "outputs": [],
   "source": [
    "# Step 1 : instantiate data\n",
    "data = CustomData()"
   ]
  },
  {
   "cell_type": "code",
   "execution_count": 5,
   "id": "1ea0317c-18d2-45a7-874f-b6be0de980a2",
   "metadata": {},
   "outputs": [
    {
     "data": {
      "text/plain": [
       "RandomForestClassifier(random_state=0)"
      ]
     },
     "execution_count": 5,
     "metadata": {},
     "output_type": "execute_result"
    }
   ],
   "source": [
    "# Step 2 : training a sklearn model\n",
    "model_sklearn = RandomForestClassifier(n_estimators=100, random_state=0)\n",
    "model_sklearn.fit(data.df, data.raw[\"Heartdis\"])"
   ]
  },
  {
   "cell_type": "code",
   "execution_count": 6,
   "id": "960609a3-1620-44b3-bbae-37843e60636d",
   "metadata": {},
   "outputs": [],
   "source": [
    "# Step 3 : wrap it up with Carla\n",
    "model = SKLearnModel(model_sklearn, data)"
   ]
  },
  {
   "cell_type": "code",
   "execution_count": 7,
   "id": "e15c3303-a12e-40b4-b902-9cc31e2eb79c",
   "metadata": {},
   "outputs": [],
   "source": [
    "# Step 4 : generate conterfactual (Wachter par exemple)\n",
    "cf = GrowingSpheres(mlmodel=model)"
   ]
  },
  {
   "cell_type": "code",
   "execution_count": 8,
   "id": "1a26db9f-2190-4861-bf5a-eaa15575bb60",
   "metadata": {},
   "outputs": [
    {
     "name": "stdout",
     "output_type": "stream",
     "text": [
      "Instance choisie - index: 3985, Heartdis: 0\n"
     ]
    }
   ],
   "source": [
    "import random\n",
    "\n",
    "# We retrieve the index of instances with Heartdis == 0\n",
    "heart_yes_indices = data.raw[data.raw[\"Heartdis\"] == 0].index.tolist()\n",
    "\n",
    "# A random index is selected from these\n",
    "random_index = random.choice(heart_yes_indices)\n",
    "\n",
    "# Retrieve the corresponding instance in data.df (encoded data)\n",
    "instance = data.df.iloc[[random_index]]\n",
    "\n",
    "# For verification, we can also display the raw target value\n",
    "print(f\"Instance choisie - index: {random_index}, Heartdis: {data.raw.iloc[random_index]['Heartdis']}\")"
   ]
  },
  {
   "cell_type": "code",
   "execution_count": 9,
   "id": "2e0dd091-c3dc-4366-b48c-90fb97847a7d",
   "metadata": {},
   "outputs": [],
   "source": [
    "# Example on one instance (first line)\n",
    "cf_result = cf.get_counterfactuals(instance)"
   ]
  },
  {
   "cell_type": "code",
   "execution_count": 12,
   "id": "24cf9017-36d5-49f7-8a98-1caf94cef064",
   "metadata": {},
   "outputs": [],
   "source": [
    "import pandas as pd\n",
    "from IPython.display import display, HTML\n",
    "\n",
    "def display_cf_comparison(original, cf, onehot_cols, encoder):\n",
    "    # Discretize one-hot columns to make them easier to read\n",
    "    def decode(df):\n",
    "        df_cat = pd.DataFrame(\n",
    "            encoder.inverse_transform(df[encoder.get_feature_names(onehot_cols)]),\n",
    "            columns=onehot_cols\n",
    "        )\n",
    "        df_num = df.drop(columns=encoder.get_feature_names(onehot_cols))\n",
    "        return pd.concat([df_num.reset_index(drop=True), df_cat.reset_index(drop=True)], axis=1)\n",
    "\n",
    "    original_decoded = decode(original.copy())\n",
    "    cf_decoded = decode(cf.copy())\n",
    "\n",
    "    # List of all dataset columns\n",
    "    all_columns = original_decoded.columns\n",
    "\n",
    "    # Create a DataFrame for comparison with “-” for unmodified columns\n",
    "    comparison_dict = {\"Feature\": [], \"Original\": [], \"Counterfactual\": []}\n",
    "    \n",
    "    for col in all_columns:\n",
    "        original_value = original_decoded[col].iloc[0]\n",
    "        cf_value = cf_decoded[col].iloc[0]\n",
    "        \n",
    "        # If the value in the counterfactual is None, it is considered unmodified.\n",
    "        if pd.isna(cf_value):  # If cf_value is None or NaN\n",
    "            cf_value = \"-\"  # Replace with a hyphen (“-”)\n",
    "        \n",
    "        if original_value == cf_value:\n",
    "            comparison_dict[\"Feature\"].append(col)\n",
    "            comparison_dict[\"Original\"].append(original_value)\n",
    "            comparison_dict[\"Counterfactual\"].append(\"-\")  # Indicate “-” for unmodified values\n",
    "\n",
    "    # Convert to DataFrame\n",
    "    comparison_df = pd.DataFrame(comparison_dict)\n",
    "\n",
    "    # Pretty display in HTML\n",
    "    styled = comparison_df.style.set_properties(**{\n",
    "        'background-color': '#f0f8ff',\n",
    "        'color': 'black',\n",
    "        'border-color': 'gray'\n",
    "    }).set_table_styles([{\n",
    "        'selector': 'th',\n",
    "        'props': [('background-color', '#4682b4'), ('color', 'white')]\n",
    "    }])\n",
    "\n",
    "    display(HTML(\"<h3>🔍 Comparison: Original instance vs. counterfactual</h3>\"))\n",
    "    display(styled)\n"
   ]
  },
  {
   "cell_type": "code",
   "execution_count": 13,
   "id": "4692c9b0-145d-4915-988d-dff6e8fae06e",
   "metadata": {},
   "outputs": [
    {
     "data": {
      "text/html": [
       "<h3>🔍 Comparison: Original instance vs. counterfactual</h3>"
      ],
      "text/plain": [
       "<IPython.core.display.HTML object>"
      ]
     },
     "metadata": {},
     "output_type": "display_data"
    },
    {
     "data": {
      "text/html": [
       "<style  type=\"text/css\" >\n",
       "    #T_93e43c0a_32fe_11f0_ae41_8b779645c5c8 th {\n",
       "          background-color: #4682b4;\n",
       "          color: white;\n",
       "    }#T_93e43c0a_32fe_11f0_ae41_8b779645c5c8row0_col0,#T_93e43c0a_32fe_11f0_ae41_8b779645c5c8row0_col1,#T_93e43c0a_32fe_11f0_ae41_8b779645c5c8row0_col2,#T_93e43c0a_32fe_11f0_ae41_8b779645c5c8row1_col0,#T_93e43c0a_32fe_11f0_ae41_8b779645c5c8row1_col1,#T_93e43c0a_32fe_11f0_ae41_8b779645c5c8row1_col2,#T_93e43c0a_32fe_11f0_ae41_8b779645c5c8row2_col0,#T_93e43c0a_32fe_11f0_ae41_8b779645c5c8row2_col1,#T_93e43c0a_32fe_11f0_ae41_8b779645c5c8row2_col2,#T_93e43c0a_32fe_11f0_ae41_8b779645c5c8row3_col0,#T_93e43c0a_32fe_11f0_ae41_8b779645c5c8row3_col1,#T_93e43c0a_32fe_11f0_ae41_8b779645c5c8row3_col2,#T_93e43c0a_32fe_11f0_ae41_8b779645c5c8row4_col0,#T_93e43c0a_32fe_11f0_ae41_8b779645c5c8row4_col1,#T_93e43c0a_32fe_11f0_ae41_8b779645c5c8row4_col2{\n",
       "            background-color:  #f0f8ff;\n",
       "            color:  black;\n",
       "            border-color:  gray;\n",
       "        }</style><table id=\"T_93e43c0a_32fe_11f0_ae41_8b779645c5c8\" ><thead>    <tr>        <th class=\"blank level0\" ></th>        <th class=\"col_heading level0 col0\" >Feature</th>        <th class=\"col_heading level0 col1\" >Original</th>        <th class=\"col_heading level0 col2\" >Counterfactual</th>    </tr></thead><tbody>\n",
       "                <tr>\n",
       "                        <th id=\"T_93e43c0a_32fe_11f0_ae41_8b779645c5c8level0_row0\" class=\"row_heading level0 row0\" >0</th>\n",
       "                        <td id=\"T_93e43c0a_32fe_11f0_ae41_8b779645c5c8row0_col0\" class=\"data row0 col0\" >Age</td>\n",
       "                        <td id=\"T_93e43c0a_32fe_11f0_ae41_8b779645c5c8row0_col1\" class=\"data row0 col1\" >Age 55 to 59</td>\n",
       "                        <td id=\"T_93e43c0a_32fe_11f0_ae41_8b779645c5c8row0_col2\" class=\"data row0 col2\" >-</td>\n",
       "            </tr>\n",
       "            <tr>\n",
       "                        <th id=\"T_93e43c0a_32fe_11f0_ae41_8b779645c5c8level0_row1\" class=\"row_heading level0 row1\" >1</th>\n",
       "                        <td id=\"T_93e43c0a_32fe_11f0_ae41_8b779645c5c8row1_col0\" class=\"data row1 col0\" >Gender</td>\n",
       "                        <td id=\"T_93e43c0a_32fe_11f0_ae41_8b779645c5c8row1_col1\" class=\"data row1 col1\" >Male</td>\n",
       "                        <td id=\"T_93e43c0a_32fe_11f0_ae41_8b779645c5c8row1_col2\" class=\"data row1 col2\" >-</td>\n",
       "            </tr>\n",
       "            <tr>\n",
       "                        <th id=\"T_93e43c0a_32fe_11f0_ae41_8b779645c5c8level0_row2\" class=\"row_heading level0 row2\" >2</th>\n",
       "                        <td id=\"T_93e43c0a_32fe_11f0_ae41_8b779645c5c8row2_col0\" class=\"data row2 col0\" >Diabetes</td>\n",
       "                        <td id=\"T_93e43c0a_32fe_11f0_ae41_8b779645c5c8row2_col1\" class=\"data row2 col1\" >Yes</td>\n",
       "                        <td id=\"T_93e43c0a_32fe_11f0_ae41_8b779645c5c8row2_col2\" class=\"data row2 col2\" >-</td>\n",
       "            </tr>\n",
       "            <tr>\n",
       "                        <th id=\"T_93e43c0a_32fe_11f0_ae41_8b779645c5c8level0_row3\" class=\"row_heading level0 row3\" >3</th>\n",
       "                        <td id=\"T_93e43c0a_32fe_11f0_ae41_8b779645c5c8row3_col0\" class=\"data row3 col0\" >Kidney</td>\n",
       "                        <td id=\"T_93e43c0a_32fe_11f0_ae41_8b779645c5c8row3_col1\" class=\"data row3 col1\" >No</td>\n",
       "                        <td id=\"T_93e43c0a_32fe_11f0_ae41_8b779645c5c8row3_col2\" class=\"data row3 col2\" >-</td>\n",
       "            </tr>\n",
       "            <tr>\n",
       "                        <th id=\"T_93e43c0a_32fe_11f0_ae41_8b779645c5c8level0_row4\" class=\"row_heading level0 row4\" >4</th>\n",
       "                        <td id=\"T_93e43c0a_32fe_11f0_ae41_8b779645c5c8row4_col0\" class=\"data row4 col0\" >Stroke</td>\n",
       "                        <td id=\"T_93e43c0a_32fe_11f0_ae41_8b779645c5c8row4_col1\" class=\"data row4 col1\" >No</td>\n",
       "                        <td id=\"T_93e43c0a_32fe_11f0_ae41_8b779645c5c8row4_col2\" class=\"data row4 col2\" >-</td>\n",
       "            </tr>\n",
       "    </tbody></table>"
      ],
      "text/plain": [
       "<pandas.io.formats.style.Styler at 0x7f1f4895a6d0>"
      ]
     },
     "metadata": {},
     "output_type": "display_data"
    }
   ],
   "source": [
    "display_cf_comparison(instance, cf_result, data._onehot_cols, data.encoder)"
   ]
  },
  {
   "cell_type": "code",
   "execution_count": null,
   "id": "7c661715-19e1-4d36-805f-d772f68f4961",
   "metadata": {},
   "outputs": [],
   "source": []
  }
 ],
 "metadata": {
  "kernelspec": {
   "display_name": "Python (carla_env)",
   "language": "python",
   "name": "carla_env"
  },
  "language_info": {
   "codemirror_mode": {
    "name": "ipython",
    "version": 3
   },
   "file_extension": ".py",
   "mimetype": "text/x-python",
   "name": "python",
   "nbconvert_exporter": "python",
   "pygments_lexer": "ipython3",
   "version": "3.7.16"
  }
 },
 "nbformat": 4,
 "nbformat_minor": 5
}
